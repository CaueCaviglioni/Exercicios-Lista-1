{
  "nbformat": 4,
  "nbformat_minor": 0,
  "metadata": {
    "colab": {
      "name": "ex5b_pag328.ipynb",
      "provenance": []
    },
    "kernelspec": {
      "name": "python3",
      "display_name": "Python 3"
    }
  },
  "cells": [
    {
      "cell_type": "code",
      "metadata": {
        "id": "oAWENTpvg8Wr",
        "colab_type": "code",
        "colab": {
          "base_uri": "https://localhost:8080/",
          "height": 104
        },
        "outputId": "8865443a-1fe1-407e-8997-90826d88af9c"
      },
      "source": [
        "import sympy as sp\n",
        "\n",
        "# Capítulo 7, exercício 5, letra b, página 328\n",
        "# Calcular cosseno entre vetores p e q no intervalo de [0,1]\n",
        "# p(x) = 1\n",
        "# q(x) = x\n",
        "\n",
        "# Item (ii)\n",
        "x = sp.symbols('x')\n",
        "p = x\n",
        "q = pow(x,2)\n",
        "# Calculando produto interno entre p e q\n",
        "prodInterno = sp.integrate(p*q, (x, 0, 1))\n",
        "# Calculando as normas dos vetores p e q\n",
        "norma_p = pow(sp.integrate(pow(p,2), (x, 0, 1)), 1/2)\n",
        "norma_q = pow(sp.integrate(pow(q,2), (x, 0, 1)), 1/2)\n",
        "# Calculando cosseno entre os vetores p e q\n",
        "cos = prodInterno/(norma_p*norma_q)\n",
        "print(\"Item (ii)\")\n",
        "print(\"cos(theta) = \", cos)\n",
        "print()\n",
        "\n",
        "# Item (iii)\n",
        "x = sp.symbols('x')\n",
        "p = x\n",
        "q = 1 - x\n",
        "# Calculando produto interno entre p e q\n",
        "prodInterno = sp.integrate(p*q, (x, 0, 1))\n",
        "# Calculando normas dos vetores p e q\n",
        "norma_p = pow(sp.integrate(pow(p,2), (x, 0, 1)), 1/2)\n",
        "norma_q = pow(sp.integrate(pow(q,2), (x, 0, 1)), 1/2)\n",
        "# Calculando cosseno entre os vetores p e q\n",
        "cos = prodInterno/(norma_p*norma_q)\n",
        "print(\"Item (iii)\")\n",
        "print(\"Cos(theta) = \", cos)"
      ],
      "execution_count": 6,
      "outputs": [
        {
          "output_type": "stream",
          "text": [
            "Item (ii)\n",
            "cos(theta) =  0.968245836551854\n",
            "\n",
            "Item (iii)\n",
            "Cos(theta) =  0.500000000000000\n"
          ],
          "name": "stdout"
        }
      ]
    }
  ]
}