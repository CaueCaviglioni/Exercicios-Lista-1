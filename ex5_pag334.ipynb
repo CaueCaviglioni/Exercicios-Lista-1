{
  "nbformat": 4,
  "nbformat_minor": 0,
  "metadata": {
    "colab": {
      "name": "ex5-pag334.ipynb",
      "provenance": []
    },
    "kernelspec": {
      "name": "python3",
      "display_name": "Python 3"
    }
  },
  "cells": [
    {
      "cell_type": "code",
      "metadata": {
        "id": "88ttD32lLKS3",
        "colab_type": "code",
        "colab": {
          "base_uri": "https://localhost:8080/",
          "height": 121
        },
        "outputId": "74d4a134-32f3-4d4a-f1a9-485775739be2"
      },
      "source": [
        "import sympy as sp\n",
        "\n",
        "# Capítulo 7, exercício 5, página 334\n",
        "# Normalizar os vetores p, q e r\n",
        "# p(x) = 1\n",
        "# q(x) = x\n",
        "# r(x) = x**2 - 1/3\n",
        "\n",
        "x = sp.symbols('x')\n",
        "# Normalizando p\n",
        "p = 1\n",
        "norma_p = pow(sp.integrate(pow(p,2), (x, -1, 1)), 1/2)\n",
        "p_unitario = p/norma_p\n",
        "print(\"Vetor p normalizado: \", p_unitario)\n",
        "print()\n",
        "# Normalizando q\n",
        "q = x\n",
        "norma_q = pow(sp.integrate(pow(q,2), (x, -1, 1)), 1/2)\n",
        "q_unitario = q/norma_q\n",
        "print(\"Vetor q normalizado: \", q_unitario)\n",
        "print()\n",
        "# Normalizando r\n",
        "r = pow(x,2) - 1/3\n",
        "norma_r = pow(sp.integrate(pow(r,2), (x, -1, 1)), 1/2)\n",
        "r_unitario = r/norma_r\n",
        "print(\"Vetor r normalizado: \", r_unitario)\n",
        "print()\n"
      ],
      "execution_count": 3,
      "outputs": [
        {
          "output_type": "stream",
          "text": [
            "Vetor p normalizado:  0.707106781186547\n",
            "\n",
            "Vetor q normalizado:  1.22474487139159*x\n",
            "\n",
            "Vetor r normalizado:  2.37170824512628*x**2 - 0.790569415042095\n",
            "\n"
          ],
          "name": "stdout"
        }
      ]
    }
  ]
}