{
  "nbformat": 4,
  "nbformat_minor": 0,
  "metadata": {
    "colab": {
      "name": "ex5a_pag328.ipynb",
      "provenance": []
    },
    "kernelspec": {
      "name": "python3",
      "display_name": "Python 3"
    }
  },
  "cells": [
    {
      "cell_type": "code",
      "metadata": {
        "id": "1rgQ63_Nd6bO",
        "colab_type": "code",
        "colab": {
          "base_uri": "https://localhost:8080/",
          "height": 104
        },
        "outputId": "e3126771-f77a-422b-d24f-64f140ad56a5"
      },
      "source": [
        "import sympy as sp\n",
        "\n",
        "# Capítulo 7, exercício 5, letra 'a', itens (ii) e (iii)\n",
        "# Cacular cosseno entre vetores p e q\n",
        "\n",
        "# Item (ii)\n",
        "x = sp.symbols('x')\n",
        "p = x\n",
        "q = pow(x,2)\n",
        "# Calculando produto interno entre p e q\n",
        "prodInterno = sp.integrate(p*q, (x, -1, 1))\n",
        "# Calculando normas dos vetores p e q\n",
        "norma_p = pow(sp.integrate(pow(p,2), (x, -1, 1)), 1/2)\n",
        "norma_q = pow(sp.integrate(pow(q,2), (x, -1, 1)), 1/2)\n",
        "# Calculando cosseno entre os vetores p e q\n",
        "cos = prodInterno/(norma_p*norma_q)\n",
        "print(\"Item (ii)\")\n",
        "print(\"Cos(theta) = \", cos)\n",
        "print()\n",
        "\n",
        "# Item (iii)\n",
        "x = sp.symbols('x')\n",
        "p = x\n",
        "q = 1 - x\n",
        "# Calculando produto interno entre p e q\n",
        "prodInterno = sp.integrate(p*q, (x, -1, 1))\n",
        "# Calculando normas dos vetores p e q\n",
        "norma_p = pow(sp.integrate(pow(p,2), (x, -1, 1)), 1/2)\n",
        "norma_q = pow(sp.integrate(pow(q,2), (x, -1, 1)), 1/2)\n",
        "# Calculando cosseno entre os vetores p e q\n",
        "cos = prodInterno/(norma_p*norma_q)\n",
        "print(\"Item (iii)\")\n",
        "print(\"Cos(theta) = \", cos)"
      ],
      "execution_count": 5,
      "outputs": [
        {
          "output_type": "stream",
          "text": [
            "Item (ii)\n",
            "Cos(theta) =  0\n",
            "\n",
            "Item (iii)\n",
            "Cos(theta) =  -0.500000000000000\n"
          ],
          "name": "stdout"
        }
      ]
    }
  ]
}